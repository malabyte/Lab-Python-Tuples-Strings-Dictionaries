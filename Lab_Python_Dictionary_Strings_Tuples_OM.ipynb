{
  "nbformat": 4,
  "nbformat_minor": 0,
  "metadata": {
    "colab": {
      "provenance": []
    },
    "kernelspec": {
      "name": "python3",
      "display_name": "Python 3"
    },
    "language_info": {
      "name": "python"
    }
  },
  "cells": [
    {
      "cell_type": "markdown",
      "source": [
        "###  **1. Ask the user to enter a phone number and display the area code and phone number on seperate lines as shown below.**"
      ],
      "metadata": {
        "id": "U85Vc4ZmDWQO"
      }
    },
    {
      "cell_type": "code",
      "execution_count": null,
      "metadata": {
        "id": "h_zq9z7sB8U4"
      },
      "outputs": [],
      "source": [
        "phone_number = input(\"Please enter a phone number: \")\n",
        "\n",
        "number_segments = phone_number.split('-') #list has the element here\n",
        "area_code = number_segments[0]\n",
        "\n",
        "phone_number = number_segments[1:]\n",
        "print(f'Area code: {area_code}')\n",
        "print(f'Phone number: {number_segments[1]}-{number_segments[2]}')"
      ]
    },
    {
      "cell_type": "markdown",
      "source": [
        "### **2. Write a program that askes the user to enter single digit integers with no space and you should display the sum of all the integers. for example 3426 return 15.**"
      ],
      "metadata": {
        "id": "TAzjdw8fGvKL"
      }
    },
    {
      "cell_type": "code",
      "source": [
        "number_string = input('Enter a sequence of digits with nothing separating them: ')\n",
        "total = 0\n",
        "number = 0\n",
        "\n",
        "# Step through each character in the string.\n",
        "for i in number_string:\n",
        "    # Convert the character to an integer.\n",
        "    number = int(i)  \n",
        "    # Add the value to the running total.\n",
        "    total += number\n",
        "\n",
        "# Display the total.\n",
        "print(f'The total of the digits in the '\n",
        "        f'string you entered is {total}')"
      ],
      "metadata": {
        "id": "du6OgAqYIJxG"
      },
      "execution_count": null,
      "outputs": []
    },
    {
      "cell_type": "markdown",
      "source": [
        "### **3. Write a program that count the number of occurance of a letter see bleow example**\n",
        "\n",
        "Examples:\n",
        "\n",
        ">If the input is:  **n Sunday** <br>\n",
        ">the output is: **1 n**\n",
        "\n",
        "> If the input is: **z Today is Thursday** <br>\n",
        "> the output is: **0 z's**\n",
        "\n",
        ">If the input is: **n It was funny joke**  <br>\n",
        ">the output is: **2 n's**"
      ],
      "metadata": {
        "id": "L0Y8UpBoI16h"
      }
    },
    {
      "cell_type": "code",
      "source": [
        "user_input= input(\"\").lower()\n",
        "count = 0-1 #Minus the first character\n",
        "for char in user_input:\n",
        "    if char == user_input[0]:\n",
        "            count += 1\n",
        "if count == 1:\n",
        "    print(f\"{count} {user_input[0]}\")\n",
        "else:\n",
        "    print(f\"{count} {user_input[0]}'s\")\n",
        "\n"
      ],
      "metadata": {
        "id": "ccyF0fq3DgCl"
      },
      "execution_count": null,
      "outputs": []
    },
    {
      "cell_type": "code",
      "source": [],
      "metadata": {
        "id": "O-5Jqsm4y8Au"
      },
      "execution_count": null,
      "outputs": []
    },
    {
      "cell_type": "code",
      "source": [
        "''' Your solution goes here '''\n",
        "\n"
      ],
      "metadata": {
        "id": "dS0_14CbxzH0"
      },
      "execution_count": null,
      "outputs": []
    },
    {
      "cell_type": "markdown",
      "metadata": {
        "id": "mC0OCYrDcYzL"
      },
      "source": [
        "### **4) Create a LA zip code dictionary using the below information `la_zip_dict`**\n",
        "\n",
        "```Python\n",
        "Encino 91436 \n",
        "Fairfax  90036\n",
        "Mar-Vista  90066 \n",
        "West-LA  90064 \n",
        "Studio-City  91604 \n",
        "```"
      ]
    },
    {
      "cell_type": "code",
      "metadata": {
        "id": "XXqKDURTcYoN"
      },
      "source": [
        "la_zip_dict = {\n",
        "    'Encino': 91436,\n",
        "    'Fairfax': 90036,\n",
        "    'Mar-Vista': 90066,\n",
        "    'West-La': 90064,\n",
        "    'Studio-City': 91604\n",
        "\n",
        "}"
      ],
      "execution_count": null,
      "outputs": []
    },
    {
      "cell_type": "markdown",
      "source": [
        "Perform the follwing operations"
      ],
      "metadata": {
        "id": "DacX4dDUNF2w"
      }
    },
    {
      "cell_type": "markdown",
      "source": [
        "1. Get the keys in the dict."
      ],
      "metadata": {
        "id": "fgeTE9oKMqY2"
      }
    },
    {
      "cell_type": "code",
      "source": [
        "la_zip_dict.keys()"
      ],
      "metadata": {
        "id": "zw-4ZQXqMv1I"
      },
      "execution_count": null,
      "outputs": []
    },
    {
      "cell_type": "markdown",
      "source": [
        "2. Get the pairs  (key-value) as a list of tuples."
      ],
      "metadata": {
        "id": "9BFoeLWMMwHZ"
      }
    },
    {
      "cell_type": "code",
      "source": [
        "la_zip_dict.items()"
      ],
      "metadata": {
        "id": "xzk40eFpMyq5"
      },
      "execution_count": null,
      "outputs": []
    },
    {
      "cell_type": "markdown",
      "source": [
        "3. Get the zip code for `Fairfax` and assign it to fairfax_zip"
      ],
      "metadata": {
        "id": "pC8ulHBbMyT6"
      }
    },
    {
      "cell_type": "code",
      "source": [
        "la_zip_dict['fairfax_zip'] = la_zip_dict['Fairfax']"
      ],
      "metadata": {
        "id": "CPS4XX_GM2cx"
      },
      "execution_count": null,
      "outputs": []
    },
    {
      "cell_type": "markdown",
      "source": [
        "4. Add `Pasadena` to the dict with zip code `91103`"
      ],
      "metadata": {
        "id": "9Wo2TFAUM2xv"
      }
    },
    {
      "cell_type": "code",
      "source": [
        "la_zip_dict['Pasadena'] = 91103"
      ],
      "metadata": {
        "id": "tOClGmULM5ln"
      },
      "execution_count": null,
      "outputs": []
    },
    {
      "cell_type": "markdown",
      "source": [
        "5. Remove `Encino` from the dict and print it out"
      ],
      "metadata": {
        "id": "XgzC_YQcM4_p"
      }
    },
    {
      "cell_type": "code",
      "source": [
        "la_zip_dict.pop('Encino')"
      ],
      "metadata": {
        "id": "gpJtKIUyM_aQ"
      },
      "execution_count": null,
      "outputs": []
    },
    {
      "cell_type": "markdown",
      "source": [
        "6. Check if `west-LA` is in the dict."
      ],
      "metadata": {
        "id": "_tNN5NTjM-sc"
      }
    },
    {
      "cell_type": "code",
      "source": [
        "'west-LA' in la_zip_dict.keys()"
      ],
      "metadata": {
        "id": "IbMEtJ08M-iu"
      },
      "execution_count": null,
      "outputs": []
    }
  ]
}